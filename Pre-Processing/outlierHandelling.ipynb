{
 "cells": [
  {
   "cell_type": "markdown",
   "metadata": {},
   "source": [
    "Handling outliers is an important step in data preprocessing. Various methods can be used to address outliers, depending on the context and goals of the analysis. Here are some common methods for handling outliers:"
   ]
  },
  {
   "cell_type": "code",
   "execution_count": 26,
   "metadata": {},
   "outputs": [
    {
     "data": {
      "text/html": [
       "<div>\n",
       "<style scoped>\n",
       "    .dataframe tbody tr th:only-of-type {\n",
       "        vertical-align: middle;\n",
       "    }\n",
       "\n",
       "    .dataframe tbody tr th {\n",
       "        vertical-align: top;\n",
       "    }\n",
       "\n",
       "    .dataframe thead th {\n",
       "        text-align: right;\n",
       "    }\n",
       "</style>\n",
       "<table border=\"1\" class=\"dataframe\">\n",
       "  <thead>\n",
       "    <tr style=\"text-align: right;\">\n",
       "      <th></th>\n",
       "      <th>Age (age in year)</th>\n",
       "      <th>sex</th>\n",
       "      <th>chest pain</th>\n",
       "      <th>blood pressure</th>\n",
       "      <th>cholestoral</th>\n",
       "      <th>blood sugar</th>\n",
       "      <th>electrocardiographic</th>\n",
       "      <th>heart rate</th>\n",
       "      <th>exercise induced</th>\n",
       "      <th>depression</th>\n",
       "      <th>slope</th>\n",
       "      <th>ca</th>\n",
       "      <th>thal</th>\n",
       "      <th>c</th>\n",
       "    </tr>\n",
       "  </thead>\n",
       "  <tbody>\n",
       "    <tr>\n",
       "      <th>0</th>\n",
       "      <td>63.0</td>\n",
       "      <td>1.0</td>\n",
       "      <td>1.0</td>\n",
       "      <td>145.0</td>\n",
       "      <td>233.0</td>\n",
       "      <td>1.0</td>\n",
       "      <td>2.0</td>\n",
       "      <td>150.0</td>\n",
       "      <td>0.0</td>\n",
       "      <td>2.3</td>\n",
       "      <td>3.0</td>\n",
       "      <td>0.0</td>\n",
       "      <td>6.0</td>\n",
       "      <td>0.0</td>\n",
       "    </tr>\n",
       "    <tr>\n",
       "      <th>1</th>\n",
       "      <td>37.0</td>\n",
       "      <td>1.0</td>\n",
       "      <td>3.0</td>\n",
       "      <td>130.0</td>\n",
       "      <td>250.0</td>\n",
       "      <td>0.0</td>\n",
       "      <td>0.0</td>\n",
       "      <td>187.0</td>\n",
       "      <td>0.0</td>\n",
       "      <td>3.5</td>\n",
       "      <td>3.0</td>\n",
       "      <td>0.0</td>\n",
       "      <td>3.0</td>\n",
       "      <td>0.0</td>\n",
       "    </tr>\n",
       "    <tr>\n",
       "      <th>2</th>\n",
       "      <td>41.0</td>\n",
       "      <td>0.0</td>\n",
       "      <td>2.0</td>\n",
       "      <td>130.0</td>\n",
       "      <td>204.0</td>\n",
       "      <td>0.0</td>\n",
       "      <td>2.0</td>\n",
       "      <td>172.0</td>\n",
       "      <td>0.0</td>\n",
       "      <td>1.4</td>\n",
       "      <td>1.0</td>\n",
       "      <td>0.0</td>\n",
       "      <td>3.0</td>\n",
       "      <td>0.0</td>\n",
       "    </tr>\n",
       "    <tr>\n",
       "      <th>3</th>\n",
       "      <td>56.0</td>\n",
       "      <td>1.0</td>\n",
       "      <td>2.0</td>\n",
       "      <td>120.0</td>\n",
       "      <td>236.0</td>\n",
       "      <td>0.0</td>\n",
       "      <td>0.0</td>\n",
       "      <td>178.0</td>\n",
       "      <td>0.0</td>\n",
       "      <td>0.8</td>\n",
       "      <td>1.0</td>\n",
       "      <td>0.0</td>\n",
       "      <td>3.0</td>\n",
       "      <td>0.0</td>\n",
       "    </tr>\n",
       "    <tr>\n",
       "      <th>4</th>\n",
       "      <td>57.0</td>\n",
       "      <td>0.0</td>\n",
       "      <td>4.0</td>\n",
       "      <td>120.0</td>\n",
       "      <td>354.0</td>\n",
       "      <td>0.0</td>\n",
       "      <td>0.0</td>\n",
       "      <td>163.0</td>\n",
       "      <td>1.0</td>\n",
       "      <td>0.6</td>\n",
       "      <td>1.0</td>\n",
       "      <td>0.0</td>\n",
       "      <td>3.0</td>\n",
       "      <td>0.0</td>\n",
       "    </tr>\n",
       "    <tr>\n",
       "      <th>...</th>\n",
       "      <td>...</td>\n",
       "      <td>...</td>\n",
       "      <td>...</td>\n",
       "      <td>...</td>\n",
       "      <td>...</td>\n",
       "      <td>...</td>\n",
       "      <td>...</td>\n",
       "      <td>...</td>\n",
       "      <td>...</td>\n",
       "      <td>...</td>\n",
       "      <td>...</td>\n",
       "      <td>...</td>\n",
       "      <td>...</td>\n",
       "      <td>...</td>\n",
       "    </tr>\n",
       "    <tr>\n",
       "      <th>592</th>\n",
       "      <td>52.0</td>\n",
       "      <td>1.0</td>\n",
       "      <td>4.0</td>\n",
       "      <td>140.0</td>\n",
       "      <td>266.0</td>\n",
       "      <td>0.0</td>\n",
       "      <td>0.0</td>\n",
       "      <td>134.0</td>\n",
       "      <td>1.0</td>\n",
       "      <td>2.0</td>\n",
       "      <td>2.0</td>\n",
       "      <td>NaN</td>\n",
       "      <td>NaN</td>\n",
       "      <td>1.0</td>\n",
       "    </tr>\n",
       "    <tr>\n",
       "      <th>593</th>\n",
       "      <td>43.0</td>\n",
       "      <td>1.0</td>\n",
       "      <td>4.0</td>\n",
       "      <td>140.0</td>\n",
       "      <td>288.0</td>\n",
       "      <td>0.0</td>\n",
       "      <td>0.0</td>\n",
       "      <td>135.0</td>\n",
       "      <td>1.0</td>\n",
       "      <td>2.0</td>\n",
       "      <td>2.0</td>\n",
       "      <td>NaN</td>\n",
       "      <td>NaN</td>\n",
       "      <td>1.0</td>\n",
       "    </tr>\n",
       "    <tr>\n",
       "      <th>594</th>\n",
       "      <td>41.0</td>\n",
       "      <td>1.0</td>\n",
       "      <td>4.0</td>\n",
       "      <td>120.0</td>\n",
       "      <td>336.0</td>\n",
       "      <td>0.0</td>\n",
       "      <td>0.0</td>\n",
       "      <td>118.0</td>\n",
       "      <td>1.0</td>\n",
       "      <td>3.0</td>\n",
       "      <td>2.0</td>\n",
       "      <td>NaN</td>\n",
       "      <td>NaN</td>\n",
       "      <td>1.0</td>\n",
       "    </tr>\n",
       "    <tr>\n",
       "      <th>595</th>\n",
       "      <td>44.0</td>\n",
       "      <td>1.0</td>\n",
       "      <td>4.0</td>\n",
       "      <td>135.0</td>\n",
       "      <td>491.0</td>\n",
       "      <td>0.0</td>\n",
       "      <td>0.0</td>\n",
       "      <td>135.0</td>\n",
       "      <td>0.0</td>\n",
       "      <td>0.0</td>\n",
       "      <td>NaN</td>\n",
       "      <td>NaN</td>\n",
       "      <td>NaN</td>\n",
       "      <td>1.0</td>\n",
       "    </tr>\n",
       "    <tr>\n",
       "      <th>596</th>\n",
       "      <td>49.0</td>\n",
       "      <td>1.0</td>\n",
       "      <td>4.0</td>\n",
       "      <td>150.0</td>\n",
       "      <td>222.0</td>\n",
       "      <td>0.0</td>\n",
       "      <td>0.0</td>\n",
       "      <td>122.0</td>\n",
       "      <td>0.0</td>\n",
       "      <td>2.0</td>\n",
       "      <td>2.0</td>\n",
       "      <td>NaN</td>\n",
       "      <td>NaN</td>\n",
       "      <td>1.0</td>\n",
       "    </tr>\n",
       "  </tbody>\n",
       "</table>\n",
       "<p>597 rows × 14 columns</p>\n",
       "</div>"
      ],
      "text/plain": [
       "     Age (age in year)  sex  chest pain  blood pressure  cholestoral   \\\n",
       "0                 63.0  1.0         1.0           145.0         233.0   \n",
       "1                 37.0  1.0         3.0           130.0         250.0   \n",
       "2                 41.0  0.0         2.0           130.0         204.0   \n",
       "3                 56.0  1.0         2.0           120.0         236.0   \n",
       "4                 57.0  0.0         4.0           120.0         354.0   \n",
       "..                 ...  ...         ...             ...           ...   \n",
       "592               52.0  1.0         4.0           140.0         266.0   \n",
       "593               43.0  1.0         4.0           140.0         288.0   \n",
       "594               41.0  1.0         4.0           120.0         336.0   \n",
       "595               44.0  1.0         4.0           135.0         491.0   \n",
       "596               49.0  1.0         4.0           150.0         222.0   \n",
       "\n",
       "     blood sugar  electrocardiographic   heart rate  exercise induced  \\\n",
       "0            1.0                    2.0       150.0               0.0   \n",
       "1            0.0                    0.0       187.0               0.0   \n",
       "2            0.0                    2.0       172.0               0.0   \n",
       "3            0.0                    0.0       178.0               0.0   \n",
       "4            0.0                    0.0       163.0               1.0   \n",
       "..           ...                    ...         ...               ...   \n",
       "592          0.0                    0.0       134.0               1.0   \n",
       "593          0.0                    0.0       135.0               1.0   \n",
       "594          0.0                    0.0       118.0               1.0   \n",
       "595          0.0                    0.0       135.0               0.0   \n",
       "596          0.0                    0.0       122.0               0.0   \n",
       "\n",
       "     depression   slope   ca  thal    c  \n",
       "0            2.3    3.0  0.0   6.0  0.0  \n",
       "1            3.5    3.0  0.0   3.0  0.0  \n",
       "2            1.4    1.0  0.0   3.0  0.0  \n",
       "3            0.8    1.0  0.0   3.0  0.0  \n",
       "4            0.6    1.0  0.0   3.0  0.0  \n",
       "..           ...    ...  ...   ...  ...  \n",
       "592          2.0    2.0  NaN   NaN  1.0  \n",
       "593          2.0    2.0  NaN   NaN  1.0  \n",
       "594          3.0    2.0  NaN   NaN  1.0  \n",
       "595          0.0    NaN  NaN   NaN  1.0  \n",
       "596          2.0    2.0  NaN   NaN  1.0  \n",
       "\n",
       "[597 rows x 14 columns]"
      ]
     },
     "execution_count": 26,
     "metadata": {},
     "output_type": "execute_result"
    }
   ],
   "source": [
    "import pandas as pd # type: ignore\n",
    "import numpy as np # type: ignore\n",
    "\n",
    "df = pd.read_csv('E:/learning/UT DataScience/Python for Data Science/Session 1/Heart data.csv')\n",
    "df"
   ]
  },
  {
   "cell_type": "code",
   "execution_count": 27,
   "metadata": {},
   "outputs": [
    {
     "data": {
      "text/plain": [
       "Index(['Age (age in year)', 'sex', 'chest pain', 'blood pressure',\n",
       "       'cholestoral ', 'blood sugar', 'electrocardiographic ', 'heart rate',\n",
       "       'exercise induced', 'depression ', 'slope', 'ca', 'thal', 'c'],\n",
       "      dtype='object')"
      ]
     },
     "execution_count": 27,
     "metadata": {},
     "output_type": "execute_result"
    }
   ],
   "source": [
    "feature = df.columns\n",
    "feature"
   ]
  },
  {
   "cell_type": "markdown",
   "metadata": {},
   "source": [
    "#### 1. Removal of Outliers:"
   ]
  },
  {
   "cell_type": "markdown",
   "metadata": {},
   "source": [
    "1-1 Manual Removal: Identify and remove outliers manually based on domain knowledge or visual inspection."
   ]
  },
  {
   "cell_type": "code",
   "execution_count": 28,
   "metadata": {},
   "outputs": [
    {
     "name": "stdout",
     "output_type": "stream",
     "text": [
      "Manual Removal:\n",
      "      Age (age in year)  sex  chest pain  blood pressure  cholestoral   \\\n",
      "227               56.0  1.0         4.0           120.0          85.0   \n",
      "\n",
      "     blood sugar  electrocardiographic   heart rate  exercise induced  \\\n",
      "227          0.0                    0.0       140.0               0.0   \n",
      "\n",
      "     depression   slope  ca  thal    c  \n",
      "227          0.0    NaN NaN   NaN  0.0  \n"
     ]
    }
   ],
   "source": [
    "# Manual removal based on domain knowledge or visual inspection\n",
    "df_manual_removed = df[df['cholestoral '] < 100]\n",
    "\n",
    "print(\"Manual Removal:\\n\", df_manual_removed)"
   ]
  },
  {
   "cell_type": "markdown",
   "metadata": {},
   "source": [
    "1-2 Statistical Removal: Remove outliers based on statistical methods such as Z-scores, IQR (Interquartile Range), etc."
   ]
  },
  {
   "cell_type": "markdown",
   "metadata": {},
   "source": [
    "1-2-1 Statistical Removal Using Z-scores"
   ]
  },
  {
   "cell_type": "code",
   "execution_count": 29,
   "metadata": {},
   "outputs": [],
   "source": [
    "# from scipy import stats\n",
    "# import numpy as np\n",
    "\n",
    "# df_zscore = df.copy()\n",
    "# df_zscore['cholestoral '] = df_zscore['cholestoral '].fillna(df_zscore['cholestoral '].median())\n",
    "# df_zscore\n",
    "\n",
    "# z_score = np.abs(stats.zscore(df_zscore['cholestoral ']))\n",
    "# threshold = 3\n",
    "# df_zscore_removed = df[(z_score < threshold)]\n",
    "\n",
    "# print(\"Orginal Data:\\n\", df.shape)\n",
    "# print(\"Removal using Z-scores:\\n\", df_zscore_removed.shape)"
   ]
  },
  {
   "cell_type": "markdown",
   "metadata": {},
   "source": [
    "1-2-2 Statistical Removal Using IQR method"
   ]
  },
  {
   "cell_type": "code",
   "execution_count": 65,
   "metadata": {},
   "outputs": [
    {
     "name": "stdout",
     "output_type": "stream",
     "text": [
      "0\n",
      "Orginal Data:\n",
      " (597, 14)\n",
      "Removal using IQR:\n",
      " (578, 14)\n"
     ]
    }
   ],
   "source": [
    "df_IQR = df.copy()\n",
    "df_IQR['cholestoral '] = df_IQR['cholestoral '].fillna(df_IQR['cholestoral '].median())\n",
    "\n",
    "Q1 = df_IQR['cholestoral '].quantile(0.25)\n",
    "Q3 = df_IQR['cholestoral '].quantile(0.75)\n",
    "IQR = Q3 - Q1\n",
    "iqr_lower_bound = Q1 - 1.5 * IQR\n",
    "iqr_upper_bound = Q3 + 1.5 * IQR\n",
    "removal_outlier = df_IQR[~((df_IQR['cholestoral '] < iqr_lower_bound) | (df_IQR['cholestoral '] > iqr_upper_bound))]\n",
    "\n",
    "print(removal_outlier['cholestoral '].isnull().sum())\n",
    "print(\"Orginal Data:\\n\", df.shape)\n",
    "print(\"Removal using IQR:\\n\", removal_outlier.shape)"
   ]
  },
  {
   "cell_type": "markdown",
   "metadata": {},
   "source": [
    "#### 2. Transformation\n"
   ]
  },
  {
   "cell_type": "markdown",
   "metadata": {},
   "source": [
    "2-1 Log Transformation\n"
   ]
  },
  {
   "cell_type": "markdown",
   "metadata": {},
   "source": [
    "Log Transformation: Apply logarithmic transformation to reduce the impact of outliers.\n"
   ]
  },
  {
   "cell_type": "code",
   "execution_count": 71,
   "metadata": {},
   "outputs": [
    {
     "name": "stdout",
     "output_type": "stream",
     "text": [
      "Log Transformation:\n",
      "      Age (age in year)       sex  chest pain  blood pressure  cholestoral   \\\n",
      "0             4.158883  0.693147    0.693147        4.983607      5.455321   \n",
      "1             3.637586  0.693147    1.386294        4.875197      5.525453   \n",
      "2             3.737670  0.000000    1.098612        4.875197      5.323010   \n",
      "3             4.043051  0.693147    1.098612        4.795791      5.468060   \n",
      "4             4.060443  0.000000    1.609438        4.795791      5.872118   \n",
      "..                 ...       ...         ...             ...           ...   \n",
      "592           3.970292  0.693147    1.609438        4.948760      5.587249   \n",
      "593           3.784190  0.693147    1.609438        4.948760      5.666427   \n",
      "594           3.737670  0.693147    1.609438        4.795791      5.820083   \n",
      "595           3.806662  0.693147    1.609438        4.912655      6.198479   \n",
      "596           3.912023  0.693147    1.609438        5.017280      5.407172   \n",
      "\n",
      "     blood sugar  electrocardiographic   heart rate  exercise induced  \\\n",
      "0       0.693147               1.098612    5.017280          0.000000   \n",
      "1       0.000000               0.000000    5.236442          0.000000   \n",
      "2       0.000000               1.098612    5.153292          0.000000   \n",
      "3       0.000000               0.000000    5.187386          0.000000   \n",
      "4       0.000000               0.000000    5.099866          0.693147   \n",
      "..           ...                    ...         ...               ...   \n",
      "592     0.000000               0.000000    4.905275          0.693147   \n",
      "593     0.000000               0.000000    4.912655          0.693147   \n",
      "594     0.000000               0.000000    4.779123          0.693147   \n",
      "595     0.000000               0.000000    4.912655          0.000000   \n",
      "596     0.000000               0.000000    4.812184          0.000000   \n",
      "\n",
      "     depression      slope   ca      thal         c  \n",
      "0       1.193922  1.386294  0.0  1.945910  0.000000  \n",
      "1       1.504077  1.386294  0.0  1.386294  0.000000  \n",
      "2       0.875469  0.693147  0.0  1.386294  0.000000  \n",
      "3       0.587787  0.693147  0.0  1.386294  0.000000  \n",
      "4       0.470004  0.693147  0.0  1.386294  0.000000  \n",
      "..           ...       ...  ...       ...       ...  \n",
      "592     1.098612  1.098612  NaN       NaN  0.693147  \n",
      "593     1.098612  1.098612  NaN       NaN  0.693147  \n",
      "594     1.386294  1.098612  NaN       NaN  0.693147  \n",
      "595     0.000000       NaN  NaN       NaN  0.693147  \n",
      "596     1.098612  1.098612  NaN       NaN  0.693147  \n",
      "\n",
      "[597 rows x 14 columns]\n"
     ]
    },
    {
     "data": {
      "image/png": "[encoded data removed]",
      "text/plain": [
       "<Figure size 640x480 with 1 Axes>"
      ]
     },
     "metadata": {},
     "output_type": "display_data"
    },
    {
     "data": {
      "image/png": "[encoded data removed]",
      "text/plain": [
       "<Figure size 640x480 with 1 Axes>"
      ]
     },
     "metadata": {},
     "output_type": "display_data"
    }
   ],
   "source": [
    "import numpy as np\n",
    "import matplotlib.pyplot as plt\n",
    "\n",
    "df_logT = df.copy()\n",
    "df_logT['cholestoral '] = df_logT['cholestoral '].fillna(df_logT['cholestoral '].median())\n",
    "\n",
    "df_log_transformed = df_logT.apply(np.log1p)\n",
    "print(\"Log Transformation:\\n\", df_log_transformed)\n",
    "\n",
    "#box plot for orginal data\n",
    "plt.boxplot(df_logT['cholestoral '])\n",
    "plt.title(\"Box plot for orginal cholesterol\")\n",
    "plt.show()\n",
    "\n",
    "#box plot for transformed data\n",
    "plt.boxplot(df_log_transformed['cholestoral '])\n",
    "plt.title(\"Box plot for transformed cholesterol\")\n",
    "plt.show()"
   ]
  },
  {
   "cell_type": "markdown",
   "metadata": {},
   "source": [
    "2-2 Square Root Transformation\n",
    "\n",
    "Square Root Transformation: Apply square root transformation to stabilize variance and reduce the effect of outliers.\n"
   ]
  },
  {
   "cell_type": "code",
   "execution_count": 72,
   "metadata": {},
   "outputs": [
    {
     "name": "stdout",
     "output_type": "stream",
     "text": [
      "Square Root Transformation:\n",
      "      Age (age in year)  sex  chest pain  blood pressure  cholestoral   \\\n",
      "0             7.937254  1.0    1.000000       12.041595     15.264338   \n",
      "1             6.082763  1.0    1.732051       11.401754     15.811388   \n",
      "2             6.403124  0.0    1.414214       11.401754     14.282857   \n",
      "3             7.483315  1.0    1.414214       10.954451     15.362291   \n",
      "4             7.549834  0.0    2.000000       10.954451     18.814888   \n",
      "..                 ...  ...         ...             ...           ...   \n",
      "592           7.211103  1.0    2.000000       11.832160     16.309506   \n",
      "593           6.557439  1.0    2.000000       11.832160     16.970563   \n",
      "594           6.403124  1.0    2.000000       10.954451     18.330303   \n",
      "595           6.633250  1.0    2.000000       11.618950     22.158520   \n",
      "596           7.000000  1.0    2.000000       12.247449     14.899664   \n",
      "\n",
      "     blood sugar  electrocardiographic   heart rate  exercise induced  \\\n",
      "0            1.0               1.414214   12.247449               0.0   \n",
      "1            0.0               0.000000   13.674794               0.0   \n",
      "2            0.0               1.414214   13.114877               0.0   \n",
      "3            0.0               0.000000   13.341664               0.0   \n",
      "4            0.0               0.000000   12.767145               1.0   \n",
      "..           ...                    ...         ...               ...   \n",
      "592          0.0               0.000000   11.575837               1.0   \n",
      "593          0.0               0.000000   11.618950               1.0   \n",
      "594          0.0               0.000000   10.862780               1.0   \n",
      "595          0.0               0.000000   11.618950               0.0   \n",
      "596          0.0               0.000000   11.045361               0.0   \n",
      "\n",
      "     depression      slope   ca      thal    c  \n",
      "0       1.516575  1.732051  0.0  2.449490  0.0  \n",
      "1       1.870829  1.732051  0.0  1.732051  0.0  \n",
      "2       1.183216  1.000000  0.0  1.732051  0.0  \n",
      "3       0.894427  1.000000  0.0  1.732051  0.0  \n",
      "4       0.774597  1.000000  0.0  1.732051  0.0  \n",
      "..           ...       ...  ...       ...  ...  \n",
      "592     1.414214  1.414214  NaN       NaN  1.0  \n",
      "593     1.414214  1.414214  NaN       NaN  1.0  \n",
      "594     1.732051  1.414214  NaN       NaN  1.0  \n",
      "595     0.000000       NaN  NaN       NaN  1.0  \n",
      "596     1.414214  1.414214  NaN       NaN  1.0  \n",
      "\n",
      "[597 rows x 14 columns]\n"
     ]
    },
    {
     "data": {
      "image/png": "[encoded data removed]",
      "text/plain": [
       "<Figure size 640x480 with 1 Axes>"
      ]
     },
     "metadata": {},
     "output_type": "display_data"
    },
    {
     "data": {
      "image/png": "[encoded data removed]",
      "text/plain": [
       "<Figure size 640x480 with 1 Axes>"
      ]
     },
     "metadata": {},
     "output_type": "display_data"
    }
   ],
   "source": [
    "import numpy as np\n",
    "import matplotlib.pyplot as plt\n",
    "\n",
    "df_square_root = df.copy()\n",
    "df_square_root['cholestoral '] = df_square_root['cholestoral '].fillna(df_square_root['cholestoral '].median())\n",
    "\n",
    "df_sqrt_transformed = df_square_root.apply(np.sqrt)\n",
    "print(\"Square Root Transformation:\\n\", df_sqrt_transformed)\n",
    "\n",
    "#box plot for orginal data\n",
    "plt.boxplot(df_square_root['cholestoral '])\n",
    "plt.title(\"Box plot for orginal cholesterol\")\n",
    "plt.show()\n",
    "\n",
    "#box plot for transformed data\n",
    "plt.boxplot(df_sqrt_transformed['cholestoral '])\n",
    "plt.title(\"Box plot for transformed cholesterol\")\n",
    "plt.show()"
   ]
  },
  {
   "cell_type": "markdown",
   "metadata": {},
   "source": [
    "2-3 Box-Cox Transformation\n",
    "\n",
    "Box-Cox Transformation: Apply Box-Cox transformation for normalization.\n"
   ]
  },
  {
   "cell_type": "code",
   "execution_count": 73,
   "metadata": {},
   "outputs": [
    {
     "name": "stdout",
     "output_type": "stream",
     "text": [
      "Box-Cox Transformation:\n",
      "      Age (age in year)  sex  chest pain  blood pressure  cholestoral   \\\n",
      "0            78.130783  1.0    1.521914           145.0      5.110716   \n",
      "1            44.415067  1.0    7.755356           130.0      5.172126   \n",
      "2            49.522616  0.0    4.101969           130.0      4.994575   \n",
      "3            68.944184  1.0    4.101969           120.0      5.121879   \n",
      "4            70.252184  0.0   12.492819           120.0      5.474154   \n",
      "..                 ...  ...         ...             ...           ...   \n",
      "592          63.727641  1.0   12.492819           140.0      5.226151   \n",
      "593          52.088712  1.0   12.492819           140.0      5.295253   \n",
      "594          49.522616  1.0   12.492819           120.0      5.428980   \n",
      "595          53.374683  1.0   12.492819           135.0      5.756186   \n",
      "596          59.832224  1.0   12.492819           150.0      5.068494   \n",
      "\n",
      "     blood sugar  electrocardiographic   heart rate  exercise induced  \\\n",
      "0            1.0                    2.0       150.0               0.0   \n",
      "1            0.0                    0.0       187.0               0.0   \n",
      "2            0.0                    2.0       172.0               0.0   \n",
      "3            0.0                    0.0       178.0               0.0   \n",
      "4            0.0                    0.0       163.0               1.0   \n",
      "..           ...                    ...         ...               ...   \n",
      "592          0.0                    0.0       134.0               1.0   \n",
      "593          0.0                    0.0       135.0               1.0   \n",
      "594          0.0                    0.0       118.0               1.0   \n",
      "595          0.0                    0.0       135.0               0.0   \n",
      "596          0.0                    0.0       122.0               0.0   \n",
      "\n",
      "     depression   slope   ca  thal    c  \n",
      "0            2.3    3.0  0.0   6.0  0.0  \n",
      "1            3.5    3.0  0.0   3.0  0.0  \n",
      "2            1.4    1.0  0.0   3.0  0.0  \n",
      "3            0.8    1.0  0.0   3.0  0.0  \n",
      "4            0.6    1.0  0.0   3.0  0.0  \n",
      "..           ...    ...  ...   ...  ...  \n",
      "592          2.0    2.0  NaN   NaN  1.0  \n",
      "593          2.0    2.0  NaN   NaN  1.0  \n",
      "594          3.0    2.0  NaN   NaN  1.0  \n",
      "595          0.0    NaN  NaN   NaN  1.0  \n",
      "596          2.0    2.0  NaN   NaN  1.0  \n",
      "\n",
      "[597 rows x 14 columns]\n"
     ]
    },
    {
     "data": {
      "image/png": "[encoded data removed]",
      "text/plain": [
       "<Figure size 640x480 with 1 Axes>"
      ]
     },
     "metadata": {},
     "output_type": "display_data"
    },
    {
     "data": {
      "image/png": "[encoded data removed]",
      "text/plain": [
       "<Figure size 640x480 with 1 Axes>"
      ]
     },
     "metadata": {},
     "output_type": "display_data"
    }
   ],
   "source": [
    "from scipy.stats import boxcox\n",
    "import numpy as np\n",
    "import matplotlib.pyplot as plt\n",
    "\n",
    "df_boxcox = df.copy()\n",
    "df_boxcox['cholestoral '] = df_boxcox['cholestoral '].fillna(df_boxcox['cholestoral '].median())\n",
    "\n",
    "df_boxcox_transformed = df_boxcox.apply(lambda x: boxcox(x + 1)[0] if (x > 0).all() else x)\n",
    "print(\"Box-Cox Transformation:\\n\", df_boxcox_transformed)\n",
    "\n",
    "#box plot for orginal data\n",
    "plt.boxplot(df_boxcox['cholestoral '])\n",
    "plt.title(\"Box plot for orginal cholesterol\")\n",
    "plt.show()\n",
    "\n",
    "#box plot for transformed data\n",
    "plt.boxplot(df_boxcox_transformed['cholestoral '])\n",
    "plt.title(\"Box plot for transformed cholesterol\")\n",
    "plt.show()\n"
   ]
  }
 ],
 "metadata": {
  "kernelspec": {
   "display_name": "Python 3",
   "language": "python",
   "name": "python3"
  },
  "language_info": {
   "codemirror_mode": {
    "name": "ipython",
    "version": 3
   },
   "file_extension": ".py",
   "mimetype": "text/x-python",
   "name": "python",
   "nbconvert_exporter": "python",
   "pygments_lexer": "ipython3",
   "version": "3.11.9"
  }
 },
 "nbformat": 4,
 "nbformat_minor": 2
}
